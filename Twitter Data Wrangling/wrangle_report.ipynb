{
 "cells": [
  {
   "cell_type": "markdown",
   "metadata": {},
   "source": [
    "## Wrangle Reporting"
   ]
  },
  {
   "cell_type": "markdown",
   "metadata": {},
   "source": [
    "**Wrangle Report: WeRateDogs Data Wrangling Efforts**\n",
    "\n",
    "**Introduction:** <br><br>\n",
    "This report outlines the data wrangling efforts performed on the WeRateDogs dataset, which consists of Twitter data related to dog ratings and images. The goal of this project was to gather, assess, and clean the data to make it suitable for further analysis and insights.\n",
    "\n",
    "**Data Gathering:**<br><br>\n",
    "The data gathering process involved using three different sources: the WeRateDogs Twitter archive file, the image predictions file, and the Twitter API. The Twitter archive file was provided and was read into a pandas DataFrame. The image predictions file was downloaded programmatically using the Requests library. Lastly, data from the Twitter API was obtained using the code and the file provided by the mentor due to technical issues with Twitter API.\n",
    "\n",
    "**Data Assessment:**<br><br>\n",
    "The gathered data was then assessed both visually and programmatically to identify quality and tidiness issues. Visual assessment involved inspecting the data tables in their raw form, while programmatic assessment utilized various pandas DataFrame methods. The assessment revealed several quality issues such as missing or incorrect data, inconsistent naming conventions, and data type inconsistencies. Tidiness issues included the presence of unnecessary columns and separate tables for related data.\n",
    "\n",
    "**Data Cleaning:**<br><br>\n",
    "The data cleaning process aimed to address the identified quality and tidiness issues. This involved several steps, such as dropping irrelevant columns, handling missing data by either dropping or imputing values, standardizing naming conventions, converting data types, and merging the cleaned tables into a single cohesive dataset.\n",
    "\n",
    "**Insights and Visualizations:**<br><br>\n",
    "The cleaned dataset was then analyzed to derive meaningful insights and create visualizations. The distribution of dog ratings was visualized using a piechart, providing insights into the popular rating ranges. The most frequent dog name was identified based on the cleaned dataset. A scatterplot was created to assess the relationship between favorited tweets counts and retweet counts. Additionally, the engagement level of tweets over time was analyzed by plotting the number of retweets and favorites using a line chart.\n",
    "\n",
    "**Conclusion:**<br><br>\n",
    "The data wrangling efforts on the WeRateDogs dataset involved gathering, assessing, and cleaning the data to make it suitable for further analysis. The process included addressing quality and tidiness issues through various cleaning steps. The resulting cleaned dataset allowed for the derivation of valuable insights and the creation of visualizations related to dog ratings, popular dog names, and tweet engagement. These insights can be further explored to gain a better understanding of the WeRateDogs community and their interactions with dog-related content.\n",
    "\n",
    "Overall, the data wrangling process was crucial in preparing the data for analysis, ensuring its quality, and enabling meaningful insights. The cleaned dataset can now be used for further exploratory data analysis, modeling, and gaining deeper insights into the world of WeRateDogs."
   ]
  }
 ],
 "metadata": {
  "kernelspec": {
   "display_name": "Python 3 (ipykernel)",
   "language": "python",
   "name": "python3"
  },
  "language_info": {
   "codemirror_mode": {
    "name": "ipython",
    "version": 3
   },
   "file_extension": ".py",
   "mimetype": "text/x-python",
   "name": "python",
   "nbconvert_exporter": "python",
   "pygments_lexer": "ipython3",
   "version": "3.9.7"
  }
 },
 "nbformat": 4,
 "nbformat_minor": 2
}
